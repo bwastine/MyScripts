{
 "cells": [
  {
   "cell_type": "code",
   "execution_count": null,
   "metadata": {},
   "outputs": [],
   "source": [
    "import sys\n",
    "import os\n",
    "import pandas as pd\n",
    "import argparse\n",
    "import numpy as np\n",
    "from IPython.core.interactiveshell import InteractiveShell\n",
    "InteractiveShell.ast_node_interactivity = \"all\""
   ]
  },
  {
   "cell_type": "code",
   "execution_count": null,
   "metadata": {},
   "outputs": [],
   "source": [
    "direct=\"Z:\\\\Work\\\\Instrumentation\\\\MicroCapteurs\\\\Clarity\\\\Data\\\\\"\n",
    "file= direct+\"180205-0605_QDP_All_QH\"\n",
    "csv_file=file + '.csv'\n",
    "df = pd.read_csv(csv_file,delimiter=\";\")\n",
    "df.head(5)\n",
    "df.info()"
   ]
  },
  {
   "cell_type": "code",
   "execution_count": null,
   "metadata": {},
   "outputs": [],
   "source": [
    "out_pickle=file + '.pkl'\n",
    "df.to_pickle(out_pickle)"
   ]
  },
  {
   "cell_type": "code",
   "execution_count": null,
   "metadata": {},
   "outputs": [],
   "source": [
    "df = df[pd.notnull(df).all(axis=1)]\n",
    "whichcolmns = [x for x in list(df) if x not in (\"date\",\"pm2.5#ref\",\"site\")]\n",
    "whichcolmns\n",
    "\n",
    "tmp_df=df[whichcolmns]\n",
    "normalized_df = (tmp_df - tmp_df.mean()) / tmp_df.std()\n",
    "df[whichcolmns] = normalized_df\n",
    "df.head(5)\n",
    "\n",
    "# out_pickle= \"/home/ben/MyData/Python/PAO_INSA/Data/Data_Clarity/Clarity@JUS_norm.pkl\"\n",
    "# out_pickle= \"/home/ben/MyData/Python/PAO_INSA/Data/Data_Clarity/Clarity@QDP_norm.pkl\"\n",
    "# df.to_pickle(out_pickle)"
   ]
  },
  {
   "cell_type": "code",
   "execution_count": null,
   "metadata": {},
   "outputs": [],
   "source": [
    "out_pickle=file + '_norm.pkl'\n",
    "df.to_pickle(out_pickle)"
   ]
  },
  {
   "cell_type": "code",
   "execution_count": null,
   "metadata": {},
   "outputs": [],
   "source": []
  }
 ],
 "metadata": {
  "kernelspec": {
   "display_name": "Python 3",
   "language": "python",
   "name": "python3"
  },
  "language_info": {
   "codemirror_mode": {
    "name": "ipython",
    "version": 3
   },
   "file_extension": ".py",
   "mimetype": "text/x-python",
   "name": "python",
   "nbconvert_exporter": "python",
   "pygments_lexer": "ipython3",
   "version": "3.6.5"
  }
 },
 "nbformat": 4,
 "nbformat_minor": 2
}
