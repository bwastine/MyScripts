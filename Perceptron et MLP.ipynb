{
 "cells": [
  {
   "cell_type": "code",
   "execution_count": 18,
   "metadata": {},
   "outputs": [],
   "source": [
    "# import numpy as np\n",
    "import pandas as pd\n",
    "import matplotlib.pyplot as plt\n",
    "import matplotlib.dates as mdates\n",
    "import os\n",
    "from IPython.core.interactiveshell import InteractiveShell\n",
    "InteractiveShell.ast_node_interactivity = \"all\"\n",
    "\n",
    "%matplotlib inline\n",
    "# os.getcwd()"
   ]
  },
  {
   "cell_type": "markdown",
   "metadata": {},
   "source": [
    "# Read Raw Dataset "
   ]
  },
  {
   "cell_type": "code",
   "execution_count": 9,
   "metadata": {},
   "outputs": [
    {
     "name": "stdout",
     "output_type": "stream",
     "text": [
      "<class 'pandas.core.frame.DataFrame'>\n",
      "RangeIndex: 5654 entries, 0 to 5653\n",
      "Data columns (total 9 columns):\n",
      "date              5654 non-null object\n",
      "no#ref            5607 non-null float64\n",
      "no2#ref           5607 non-null float64\n",
      "pm10#ref          5637 non-null float64\n",
      "pm2.5#ref         5625 non-null float64\n",
      "co#ref            5625 non-null float64\n",
      "pm2.5#A88W6WY9    5011 non-null float64\n",
      "temp#A88W6WY9     5011 non-null float64\n",
      "rh#A88W6WY9       5011 non-null float64\n",
      "dtypes: float64(8), object(1)\n",
      "memory usage: 397.6+ KB\n"
     ]
    },
    {
     "data": {
      "text/html": [
       "<div>\n",
       "<style scoped>\n",
       "    .dataframe tbody tr th:only-of-type {\n",
       "        vertical-align: middle;\n",
       "    }\n",
       "\n",
       "    .dataframe tbody tr th {\n",
       "        vertical-align: top;\n",
       "    }\n",
       "\n",
       "    .dataframe thead th {\n",
       "        text-align: right;\n",
       "    }\n",
       "</style>\n",
       "<table border=\"1\" class=\"dataframe\">\n",
       "  <thead>\n",
       "    <tr style=\"text-align: right;\">\n",
       "      <th></th>\n",
       "      <th>date</th>\n",
       "      <th>no#ref</th>\n",
       "      <th>no2#ref</th>\n",
       "      <th>pm10#ref</th>\n",
       "      <th>pm2.5#ref</th>\n",
       "      <th>co#ref</th>\n",
       "      <th>pm2.5#A88W6WY9</th>\n",
       "      <th>temp#A88W6WY9</th>\n",
       "      <th>rh#A88W6WY9</th>\n",
       "    </tr>\n",
       "  </thead>\n",
       "  <tbody>\n",
       "    <tr>\n",
       "      <th>0</th>\n",
       "      <td>2018-04-06 12:15:00</td>\n",
       "      <td>17.3</td>\n",
       "      <td>22.9</td>\n",
       "      <td>21.6</td>\n",
       "      <td>8.6</td>\n",
       "      <td>0.101</td>\n",
       "      <td>2.058824</td>\n",
       "      <td>19.843597</td>\n",
       "      <td>37.723354</td>\n",
       "    </tr>\n",
       "    <tr>\n",
       "      <th>1</th>\n",
       "      <td>2018-04-06 12:30:00</td>\n",
       "      <td>18.0</td>\n",
       "      <td>21.7</td>\n",
       "      <td>21.6</td>\n",
       "      <td>8.6</td>\n",
       "      <td>0.088</td>\n",
       "      <td>3.000000</td>\n",
       "      <td>20.113297</td>\n",
       "      <td>37.735561</td>\n",
       "    </tr>\n",
       "  </tbody>\n",
       "</table>\n",
       "</div>"
      ],
      "text/plain": [
       "                  date  no#ref  no2#ref  pm10#ref  pm2.5#ref  co#ref  \\\n",
       "0  2018-04-06 12:15:00    17.3     22.9      21.6        8.6   0.101   \n",
       "1  2018-04-06 12:30:00    18.0     21.7      21.6        8.6   0.088   \n",
       "\n",
       "   pm2.5#A88W6WY9  temp#A88W6WY9  rh#A88W6WY9  \n",
       "0        2.058824      19.843597    37.723354  \n",
       "1        3.000000      20.113297    37.735561  "
      ]
     },
     "execution_count": 9,
     "metadata": {},
     "output_type": "execute_result"
    }
   ],
   "source": [
    "# Avant 11/04/18:\n",
    "# JUS=c(\"A3TCQJGS\",\"ASBMY5MM\") et QDP=c(\"A88W6WY9\",\"A96PNDQP\")\n",
    "# Après 11/04/18:\n",
    "# JUS=c(\"A3TCQJGS\") et QDP=c(\"A88W6WY9\") et JBS=c(\"A96PNDQP\",\"ASBMY5MM\"))\n",
    "\n",
    "path = \"O:\\\\Pôle EXPRESSO\\\\EspacePerso\\\\BW\\\\Python\\\\PAO_Insa\\\\Data\\\\Clarity\\\\\"\n",
    "file = path +\"Part3\\\\180406-0605_QDP_All_QH.pkl\"\n",
    "rawdata = pd.read_pickle(file)\n",
    "#//\n",
    "rawdata.info()\n",
    "rawdata.head(2)"
   ]
  },
  {
   "cell_type": "code",
   "execution_count": 7,
   "metadata": {},
   "outputs": [
    {
     "name": "stdout",
     "output_type": "stream",
     "text": [
      "<class 'pandas.core.frame.DataFrame'>\n",
      "RangeIndex: 6054 entries, 0 to 6053\n",
      "Data columns (total 16 columns):\n",
      "date                6054 non-null datetime64[ns]\n",
      "pm10.vol#ref        5587 non-null float64\n",
      "pm2.5.nonvol#ref    5567 non-null float64\n",
      "pm10.nonvol#ref     5589 non-null float64\n",
      "pm2.5#ref           5568 non-null float64\n",
      "pm2.5.vol#ref       5574 non-null float64\n",
      "pm10#ref            5588 non-null float64\n",
      "no2#ref             5612 non-null float64\n",
      "no#ref              5612 non-null float64\n",
      "pm2.5#A3TCQJGS      5042 non-null float64\n",
      "temp#A3TCQJGS       5042 non-null float64\n",
      "rh#A3TCQJGS         5042 non-null float64\n",
      "Patm                5328 non-null float64\n",
      "ws                  5328 non-null float64\n",
      "wd                  5328 non-null float64\n",
      "Tgrad               6054 non-null float64\n",
      "dtypes: datetime64[ns](1), float64(15)\n",
      "memory usage: 756.8 KB\n"
     ]
    },
    {
     "data": {
      "text/html": [
       "<div>\n",
       "<style scoped>\n",
       "    .dataframe tbody tr th:only-of-type {\n",
       "        vertical-align: middle;\n",
       "    }\n",
       "\n",
       "    .dataframe tbody tr th {\n",
       "        vertical-align: top;\n",
       "    }\n",
       "\n",
       "    .dataframe thead th {\n",
       "        text-align: right;\n",
       "    }\n",
       "</style>\n",
       "<table border=\"1\" class=\"dataframe\">\n",
       "  <thead>\n",
       "    <tr style=\"text-align: right;\">\n",
       "      <th></th>\n",
       "      <th>date</th>\n",
       "      <th>pm10.vol#ref</th>\n",
       "      <th>pm2.5.nonvol#ref</th>\n",
       "      <th>pm10.nonvol#ref</th>\n",
       "      <th>pm2.5#ref</th>\n",
       "      <th>pm2.5.vol#ref</th>\n",
       "      <th>pm10#ref</th>\n",
       "      <th>no2#ref</th>\n",
       "      <th>no#ref</th>\n",
       "      <th>pm2.5#A3TCQJGS</th>\n",
       "      <th>temp#A3TCQJGS</th>\n",
       "      <th>rh#A3TCQJGS</th>\n",
       "      <th>Patm</th>\n",
       "      <th>ws</th>\n",
       "      <th>wd</th>\n",
       "      <th>Tgrad</th>\n",
       "    </tr>\n",
       "  </thead>\n",
       "  <tbody>\n",
       "    <tr>\n",
       "      <th>0</th>\n",
       "      <td>2018-04-06 12:15:00</td>\n",
       "      <td>-2.6</td>\n",
       "      <td>-1.0</td>\n",
       "      <td>9.5</td>\n",
       "      <td>3.8</td>\n",
       "      <td>-4.8</td>\n",
       "      <td>12.0</td>\n",
       "      <td>15.7</td>\n",
       "      <td>2.2</td>\n",
       "      <td>5.176471</td>\n",
       "      <td>20.094604</td>\n",
       "      <td>38.744183</td>\n",
       "      <td>1008.0</td>\n",
       "      <td>4.9</td>\n",
       "      <td>137.0</td>\n",
       "      <td>-2.8</td>\n",
       "    </tr>\n",
       "    <tr>\n",
       "      <th>1</th>\n",
       "      <td>2018-04-06 12:30:00</td>\n",
       "      <td>-1.8</td>\n",
       "      <td>-0.2</td>\n",
       "      <td>9.7</td>\n",
       "      <td>4.5</td>\n",
       "      <td>-4.7</td>\n",
       "      <td>11.4</td>\n",
       "      <td>14.6</td>\n",
       "      <td>2.4</td>\n",
       "      <td>4.352941</td>\n",
       "      <td>22.391090</td>\n",
       "      <td>35.011826</td>\n",
       "      <td>1008.0</td>\n",
       "      <td>5.6</td>\n",
       "      <td>127.0</td>\n",
       "      <td>-2.8</td>\n",
       "    </tr>\n",
       "  </tbody>\n",
       "</table>\n",
       "</div>"
      ],
      "text/plain": [
       "                 date  pm10.vol#ref  pm2.5.nonvol#ref  pm10.nonvol#ref  \\\n",
       "0 2018-04-06 12:15:00          -2.6              -1.0              9.5   \n",
       "1 2018-04-06 12:30:00          -1.8              -0.2              9.7   \n",
       "\n",
       "   pm2.5#ref  pm2.5.vol#ref  pm10#ref  no2#ref  no#ref  pm2.5#A3TCQJGS  \\\n",
       "0        3.8           -4.8      12.0     15.7     2.2        5.176471   \n",
       "1        4.5           -4.7      11.4     14.6     2.4        4.352941   \n",
       "\n",
       "   temp#A3TCQJGS  rh#A3TCQJGS    Patm   ws     wd  Tgrad  \n",
       "0      20.094604    38.744183  1008.0  4.9  137.0   -2.8  \n",
       "1      22.391090    35.011826  1008.0  5.6  127.0   -2.8  "
      ]
     },
     "execution_count": 7,
     "metadata": {},
     "output_type": "execute_result"
    }
   ],
   "source": [
    "#// \n",
    "keep = [x for x in list(rawdata) if x not in (\"pm2.5#ASBMY5MM\",\"temp.ASBMY5MM\",\"rh.ASBMY5MM\")]\n",
    "rawdata=rawdata[keep]\n",
    "#//\n",
    "# rawdata['date']=rawdata['date'].astype('datetime64')\n",
    "# rawdata['date'] = pd.to_datetime(rawdata['date'], format='%d/%m/%Y %H:%M') \n",
    "rawdata['date'] = pd.to_datetime(rawdata['date'], format='%Y-%m-%d %H:%M:%S') \n",
    "#//\n",
    "# rawdata = rawdata.dropna()\n",
    "# rawdata= rawdata.reset_index()\n",
    "#//\n",
    "rawdata.info()\n",
    "rawdata.head(2)"
   ]
  },
  {
   "cell_type": "code",
   "execution_count": 33,
   "metadata": {},
   "outputs": [
    {
     "data": {
      "text/plain": [
       "<matplotlib.axes._subplots.AxesSubplot at 0x1d35ba3b438>"
      ]
     },
     "execution_count": 33,
     "metadata": {},
     "output_type": "execute_result"
    },
    {
     "data": {
      "image/png": "[encoded data removed]",
      "text/plain": [
       "<Figure size 720x360 with 1 Axes>"
      ]
     },
     "metadata": {},
     "output_type": "display_data"
    },
    {
     "data": {
      "text/plain": [
       "[<matplotlib.lines.Line2D at 0x1d35ce64da0>]"
      ]
     },
     "execution_count": 33,
     "metadata": {},
     "output_type": "execute_result"
    },
    {
     "data": {
      "image/png": "[encoded data removed]",
      "text/plain": [
       "<Figure size 432x288 with 1 Axes>"
      ]
     },
     "metadata": {},
     "output_type": "display_data"
    },
    {
     "data": {
      "text/plain": [
       "[<matplotlib.lines.Line2D at 0x1d35a3406d8>]"
      ]
     },
     "execution_count": 33,
     "metadata": {},
     "output_type": "execute_result"
    },
    {
     "data": {
      "text/plain": [
       "[<matplotlib.lines.Line2D at 0x1d35a3402b0>]"
      ]
     },
     "execution_count": 33,
     "metadata": {},
     "output_type": "execute_result"
    },
    {
     "data": {
      "text/plain": [
       "Text(0.5,0,'pm2.5#ref')"
      ]
     },
     "execution_count": 33,
     "metadata": {},
     "output_type": "execute_result"
    },
    {
     "data": {
      "text/plain": [
       "Text(0,0.5,'pm2.5#A88W6WY9')"
      ]
     },
     "execution_count": 33,
     "metadata": {},
     "output_type": "execute_result"
    },
    {
     "data": {
      "image/png": "[encoded data removed]",
      "text/plain": [
       "<Figure size 432x288 with 1 Axes>"
      ]
     },
     "metadata": {},
     "output_type": "display_data"
    }
   ],
   "source": [
    "#//\n",
    "# rawdata.set_index(['date'],inplace=True)\n",
    "#//\n",
    "x=\"date\"\n",
    "y1=\"pm2.5#ref\"\n",
    "y2=\"pm2.5#A88W6WY9\"\n",
    "\n",
    "rawdata.plot(x=x,y=[y1,y2],figsize=(10, 5),style=\".\",\n",
    "             title=\"Raw Dataset\")\n",
    "plt.show()\n",
    "\n",
    "plt.plot(rawdata.date, rawdata[[y2]], '.r')\n",
    "plt.show()\n",
    "\n",
    "plt.plot(rawdata[[y1]], rawdata[[y2]], '.r')\n",
    "plt.plot(rawdata[[y1]], rawdata[[y1]],'black')\n",
    "plt.xlabel(y1)\n",
    "plt.ylabel(y2)\n",
    "plt.grid(True)\n",
    "plt.show()\n"
   ]
  },
  {
   "cell_type": "markdown",
   "metadata": {},
   "source": [
    "# Read Normalised Dataset "
   ]
  },
  {
   "cell_type": "code",
   "execution_count": null,
   "metadata": {},
   "outputs": [],
   "source": [
    "DATA_PATH = \"O:\\\\Pôle EXPRESSO\\\\EspacePerso\\\\BW\\\\Python\\\\PAO_Insa\\\\Data\\\\Data_Clarity\\\\Part2\\\\180205-0405_JUS_All_Norm.pkl\"\n",
    "df = pd.read_pickle(DATA_PATH)\n",
    "df = df.dropna()\n",
    "df = df.reset_index()\n",
    "#//\n",
    "df.info()\n",
    "df.head()\n"
   ]
  },
  {
   "cell_type": "markdown",
   "metadata": {},
   "source": [
    "# Premier modèle: Perceptron\n",
    "\n",
    "Pour commencer, on crée un simple modèle de réseau de neurones à 1 couches dense et 1 couche de prédiction"
   ]
  },
  {
   "cell_type": "code",
   "execution_count": null,
   "metadata": {},
   "outputs": [],
   "source": [
    "from keras.models import Sequential\n",
    "from keras.layers import Dense\n",
    "from keras.callbacks import EarlyStopping\n",
    "\n",
    "def baseline_model(dense_size, input_dim, loss='mean_squared_error', optimizer='adam'):\n",
    "    # \n",
    "    model = Sequential()\n",
    "    model.add(Dense(dense_size, input_dim=input_dim, kernel_initializer='normal', activation='relu'))\n",
    "    model.add(Dense(1, kernel_initializer='normal'))\n",
    "    # Compile model\n",
    "    model.compile(loss=loss, optimizer=optimizer)\n",
    "    model.summary()\n",
    "    return model"
   ]
  },
  {
   "cell_type": "markdown",
   "metadata": {},
   "source": [
    "### Découpage en trois jeux de données pour la validation croisée"
   ]
  },
  {
   "cell_type": "code",
   "execution_count": null,
   "metadata": {},
   "outputs": [],
   "source": [
    "print(df.columns.values)"
   ]
  },
  {
   "cell_type": "code",
   "execution_count": null,
   "metadata": {},
   "outputs": [],
   "source": [
    "def split_dataframe(dataframe, percent):\n",
    "    \"\"\" Méthode permettant de séparer une dataframe en deux en fonction d'un pourcentage donné\n",
    "    \"\"\"\n",
    "    nb_rows = int(np.floor(percent * len(dataframe)))\n",
    "    return dataframe[:nb_rows], dataframe[nb_rows:]\n",
    "\n",
    "def dataframe_to_xy(df):\n",
    "    \"\"\" Retourne X et y en prenant une dataframe en argument   \n",
    "    return (np.array(df[['no2#ref','no#ref','rh','temp', 'rh','pm2.5#A3TCQJGS','pm2.5#ASBMY5MM']]),\\\n",
    "            np.array(df['pm2.5#ref']))\n",
    "    \"\"\"\n",
    "    return (np.array(df[['no2#ref','no#ref','rh.ASBMY5MM','temp.ASBMY5MM', 'pm2.5#ASBMY5MM']]),\\\n",
    "            np.array(df['pm2.5#ref']))\n",
    "\n",
    "\n",
    "# On applique dataframe_to_xy à l'ensemble des données pour validation finale\n",
    "X_all, y_all= dataframe_to_xy(df)\n",
    "X_all[:5] ; y_all[:5]\n",
    "y_all.size\n",
    "plt.plot(y_all)"
   ]
  },
  {
   "cell_type": "code",
   "execution_count": null,
   "metadata": {},
   "outputs": [],
   "source": [
    "# On effectue une permutation ici afin d'obtenir la répartition la plus homogène possible par jeu de donnée\n",
    "df = df.reindex(np.random.permutation(df.index)) \n",
    "df.head(5)\n"
   ]
  },
  {
   "cell_type": "code",
   "execution_count": null,
   "metadata": {},
   "outputs": [],
   "source": [
    "# Et on split en 3 jeux de données avec mises en forme finale pour données entrée modele\n",
    "df_train, df_test = split_dataframe(df, 0.5) \n",
    "df_valid, df_test = split_dataframe(df_test, 0.5)\n",
    "\n",
    "X_train, y_train = dataframe_to_xy(df_train)\n",
    "X_valid, y_valid = dataframe_to_xy(df_valid)\n",
    "X_test, y_test = dataframe_to_xy(df_test)"
   ]
  },
  {
   "cell_type": "markdown",
   "metadata": {},
   "source": [
    "### Distribution des données sur les 3 jeux de validation croisée"
   ]
  },
  {
   "cell_type": "code",
   "execution_count": null,
   "metadata": {},
   "outputs": [],
   "source": [
    "plt.plot(y_train, '+b')\n",
    "plt.ylabel('Ref Values Training DataSet')\n",
    "plt.show()\n",
    "plt.plot(y_valid, '+r')\n",
    "plt.ylabel('Ref Values Validation DataSet')\n",
    "plt.show()\n",
    "plt.plot(y_test, '+r')\n",
    "plt.ylabel('Ref Values Test DataSet')\n",
    "plt.show()\n"
   ]
  },
  {
   "cell_type": "code",
   "execution_count": null,
   "metadata": {},
   "outputs": [],
   "source": [
    "model = baseline_model(32, X_train.shape[1], 'mean_squared_error', 'adam')\n",
    "early_stopping = EarlyStopping(monitor='val_loss', verbose=1, mode='auto', patience=10)\n",
    "history = model.fit(X_train, y_train, batch_size=32, epochs=5000, validation_data=(X_valid, y_valid), callbacks=[early_stopping], verbose=1)"
   ]
  },
  {
   "cell_type": "markdown",
   "metadata": {},
   "source": [
    "### Courbes de résultats pour modèle à une couche dense"
   ]
  },
  {
   "cell_type": "code",
   "execution_count": null,
   "metadata": {},
   "outputs": [],
   "source": [
    "# plot cout en validation\n",
    "plt.plot(history.history['loss'], 'r-', label=\"Coût\")\n",
    "plt.plot(history.history['val_loss'], 'b-', label=\"Coût en validation\")\n",
    "plt.title(\"Courbes de coût\")\n",
    "plt.legend()\n",
    "plt.show()\n",
    "\n",
    "# applique modele sur X_test et compare Y_pred à Y_test (=ref)\n",
    "y_pred_train = model.predict(X_train)\n",
    "y_pred_valid = model.predict(X_valid)\n",
    "y_pred_test = model.predict(X_test)\n",
    "plt.plot(y_train, y_pred_train,'.k')\n",
    "plt.plot(y_valid, y_pred_valid,'.b')\n",
    "plt.plot(y_test, y_pred_test,'.r')\n",
    "plt.title(\"Model=f(Ref) - Train, Valid & Test Dataset\")\n",
    "plt.plot(y_test,y_test, 'k',lw=0.5)\n",
    "plt.grid(True)\n",
    "plt.show()\n",
    "\n",
    "# applique modele sur X_test et compare Y_pred à Y_test (=ref)\n",
    "x=\"# date\"\n",
    "y1=\"pm2.5#ref\"\n",
    "y2=\"pm2.5#A3TCQJGS\"\n",
    "\n",
    "y_pred_all = model.predict(X_all)\n",
    "plt.plot(mydata[[y1]], mydata[[y2]], '.k')\n",
    "plt.plot(y_all, y_pred_all,'.r')\n",
    "plt.title(\"Capteur=f(Ref) - Sans/Avec Correction\")\n",
    "plt.plot(mydata[[y1]],mydata[[y1]], 'k',lw=0.5)\n",
    "plt.grid(True)\n",
    "plt.show()\n",
    "\n",
    "\n",
    "plt.figure(figsize=(12, 6))\n",
    "# mydata[[y1,y2]].plot(figsize=(10, 5),style=\".\",title=\"Raw Dataset\")\n",
    "plt.plot(np.arange(2997),mydata[[y2]],\"-\",markersize=6)\n",
    "plt.plot(y_pred_all,\".\",markersize=4)\n",
    "plt.plot(y_all,\"-k\", markersize=6)\n",
    "# plt.grid(True)\n",
    "# plt.show()\n",
    "\n",
    "# import plotly.plotly as py\n",
    "# import plotly.graph_objs as go\n",
    "# data = [go.Bar(x=np.arange(2997),y=np.arange(2997))]\n",
    "# py.iplot(data, filename='jupyter-basic_bar')"
   ]
  },
  {
   "cell_type": "code",
   "execution_count": null,
   "metadata": {},
   "outputs": [],
   "source": [
    "mydata.set_index(['index'],inplace=True)"
   ]
  },
  {
   "cell_type": "markdown",
   "metadata": {},
   "source": [
    "## MLP 2 Couches\n",
    "\n",
    "### Définition du modèle"
   ]
  },
  {
   "cell_type": "code",
   "execution_count": null,
   "metadata": {},
   "outputs": [],
   "source": [
    "def two_layers_mlp_model(nb_units, dense_size, loss='mean_squared_error', optimizer='adam'):\n",
    "    model = Sequential()\n",
    "    model.add(Dense(dense_size, input_dim=dense_size, kernel_initializer='normal', activation='relu'))\n",
    "    model.add(Dense(dense_size//2, kernel_initializer='normal', activation='relu'))\n",
    "    model.add(Dense(1, kernel_initializer='normal'))\n",
    "    model.compile(loss=loss, optimizer=optimizer)\n",
    "    model.summary()\n",
    "    return model\n",
    "\n",
    "model = two_layers_mlp_model(32, X_train.shape[1])"
   ]
  },
  {
   "cell_type": "markdown",
   "metadata": {},
   "source": [
    "### Apprentissage"
   ]
  },
  {
   "cell_type": "code",
   "execution_count": null,
   "metadata": {},
   "outputs": [],
   "source": [
    "early_stopping = EarlyStopping(monitor='val_loss', verbose=1, mode='auto', patience=10)\n",
    "history = model.fit(X_train, y_train, batch_size=32, epochs=5000, validation_data=(X_valid, y_valid), callbacks=[early_stopping], verbose=1)"
   ]
  },
  {
   "cell_type": "markdown",
   "metadata": {},
   "source": [
    "### Courbes de résultats pour modèle à deux couches denses"
   ]
  },
  {
   "cell_type": "code",
   "execution_count": null,
   "metadata": {},
   "outputs": [],
   "source": [
    "y_pred = model.predict(X_test)\n",
    "plt.plot(history.history['loss'], 'r-', label=\"Coût\")\n",
    "plt.plot(history.history['val_loss'], 'b-', label=\"Coût en validation\")\n",
    "plt.title(\"Courbes de coût\")\n",
    "plt.legend()\n",
    "plt.show()\n",
    "\n",
    "plt.title('y_pred, y_test')\n",
    "\n",
    "plt.plot(y_pred[:], y_test[:], '+')\n",
    "plt.title(\"Prédiction en fonction de test\")\n",
    "plt.show()"
   ]
  },
  {
   "cell_type": "markdown",
   "metadata": {},
   "source": [
    "# Conclusion\n",
    "\n",
    "Sur ces premiers tests, le modèle a une couche a l'air un peu plus performant que le modèle a deux couches. En effet, le modèle prédictif est presque linéaire. Essayons maintenant d'implémenter un modèle récurrent"
   ]
  },
  {
   "cell_type": "code",
   "execution_count": null,
   "metadata": {},
   "outputs": [],
   "source": []
  }
 ],
 "metadata": {
  "kernelspec": {
   "display_name": "Python 3",
   "language": "python",
   "name": "python3"
  },
  "language_info": {
   "codemirror_mode": {
    "name": "ipython",
    "version": 3
   },
   "file_extension": ".py",
   "mimetype": "text/x-python",
   "name": "python",
   "nbconvert_exporter": "python",
   "pygments_lexer": "ipython3",
   "version": "3.6.5"
  }
 },
 "nbformat": 4,
 "nbformat_minor": 2
}
